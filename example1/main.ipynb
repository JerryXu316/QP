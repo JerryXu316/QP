{
 "cells": [
  {
   "cell_type": "code",
   "execution_count": null,
   "id": "initial_id",
   "metadata": {
    "collapsed": true
   },
   "outputs": [],
   "source": [
    "import numpy as np\n",
    "\n",
    "#系统参数\n",
    "omega_n = 1.0 #自然频率\n",
    "delta = 0.5 #阻尼比（默认在0.4~0.8之间）\n",
    "D = 15 #延时时间\n",
    "Ts = 1\n",
    "D = 15\n",
    "P = 50\n",
    "M = 10\n",
    "total_steps = 200\n",
    "external_disturbances = 0.05\n",
    "\n"
   ]
  }
 ],
 "metadata": {
  "kernelspec": {
   "display_name": "Python 3",
   "language": "python",
   "name": "python3"
  },
  "language_info": {
   "codemirror_mode": {
    "name": "ipython",
    "version": 2
   },
   "file_extension": ".py",
   "mimetype": "text/x-python",
   "name": "python",
   "nbconvert_exporter": "python",
   "pygments_lexer": "ipython2",
   "version": "2.7.6"
  }
 },
 "nbformat": 4,
 "nbformat_minor": 5
}
